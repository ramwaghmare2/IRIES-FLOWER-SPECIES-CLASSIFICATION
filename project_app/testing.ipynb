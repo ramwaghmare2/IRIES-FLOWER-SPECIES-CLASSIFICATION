{
 "cells": [
  {
   "cell_type": "code",
   "execution_count": 7,
   "id": "732dd183",
   "metadata": {},
   "outputs": [],
   "source": [
    "import pickle \n",
    "import json \n",
    "import numpy as np"
   ]
  },
  {
   "cell_type": "code",
   "execution_count": 18,
   "id": "68cec70a",
   "metadata": {},
   "outputs": [],
   "source": [
    "class IrisSpecies:\n",
    "    def __init__(self,SepalLengthCm, SepalWidthCm, PetalLengthCm, PetalWidthCm):\n",
    "        self.SepalLengthCm= SepalLengthCm\n",
    "        self.SepalWidthCm =SepalWidthCm\n",
    "        self.PetalLengthCm =PetalLengthCm\n",
    "        self.PetalWidthCm =PetalWidthCm\n",
    "        \n",
    "    def get_data(self):\n",
    "        with open('logistic model.pkl','rb') as f :\n",
    "            self.model = pickle.load(f)\n",
    "    \n",
    "        with open('project data.json','r') as f :\n",
    "            self.project_data= json.load(f)\n",
    "            \n",
    "    def get_result(self):\n",
    "        self.get_data()\n",
    "        test_array = np.zeros(len(self.project_data['columns']))\n",
    "        test_array[0] = self.SepalLengthCm\n",
    "        test_array[1]=  self.SepalWidthCm\n",
    "        test_array[2]= self.PetalLengthCm\n",
    "        test_array[3]= self.PetalWidthCm\n",
    "        \n",
    "        result = self.model.predict([test_array])\n",
    "        return result[0]"
   ]
  },
  {
   "cell_type": "code",
   "execution_count": 19,
   "id": "8b4c259a",
   "metadata": {},
   "outputs": [
    {
     "data": {
      "text/plain": [
       "'Iris-setosa'"
      ]
     },
     "execution_count": 19,
     "metadata": {},
     "output_type": "execute_result"
    }
   ],
   "source": [
    "obj = IrisSpecies(5.1,3.5,1.4,0.2)\n",
    "obj.get_result()"
   ]
  }
 ],
 "metadata": {
  "kernelspec": {
   "display_name": "Python 3 (ipykernel)",
   "language": "python",
   "name": "python3"
  },
  "language_info": {
   "codemirror_mode": {
    "name": "ipython",
    "version": 3
   },
   "file_extension": ".py",
   "mimetype": "text/x-python",
   "name": "python",
   "nbconvert_exporter": "python",
   "pygments_lexer": "ipython3",
   "version": "3.9.7"
  }
 },
 "nbformat": 4,
 "nbformat_minor": 5
}
